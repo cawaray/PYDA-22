{
 "cells": [
  {
   "cell_type": "code",
   "execution_count": 2,
   "id": "9bbe4ba7",
   "metadata": {},
   "outputs": [],
   "source": [
    "# Задание 1. Дана переменная, в которой хранится словарь, содержащий гео-метки для каждого пользователя. \n",
    "# Вам необходимо написать программу, которая выведет на экран множество уникальных гео-меток всех пользователей.\n"
   ]
  },
  {
   "cell_type": "code",
   "execution_count": 51,
   "id": "f7a23aa8",
   "metadata": {},
   "outputs": [
    {
     "name": "stdout",
     "output_type": "stream",
     "text": [
      "{98, 35, 15, 213, 54, 119}\n"
     ]
    }
   ],
   "source": [
    "ids = {'user1': [213, 213, 213, 15, 213], \n",
    "       'user2': [54, 54, 119, 119, 119], \n",
    "       'user3': [213, 98, 98, 35]}\n",
    "\n",
    "print(set(sum(ids.values(), [])))\n"
   ]
  },
  {
   "cell_type": "code",
   "execution_count": null,
   "id": "bf005641",
   "metadata": {},
   "outputs": [],
   "source": [
    "# Задание 2. Написать программу, которая выведет на экран распределение количества слов в запросах в требуемом виде."
   ]
  },
  {
   "cell_type": "code",
   "execution_count": 70,
   "id": "7b2040e1",
   "metadata": {},
   "outputs": [
    {
     "name": "stdout",
     "output_type": "stream",
     "text": [
      "Поисковых запросов, содержащих 3 слов(а): 57.14%\n",
      "Поисковых запросов, содержащих 2 слов(а): 42.86%\n"
     ]
    }
   ],
   "source": [
    "\n",
    "queries = [\n",
    "    'смотреть сериалы онлайн',\n",
    "    'новости спорта',\n",
    "    'афиша кино',\n",
    "    'курс доллара',\n",
    "    'сериалы этим летом',\n",
    "    'курс по питону',\n",
    "    'сериалы про спорт',\n",
    "]\n",
    "\n",
    "diction = {}\n",
    "\n",
    "for query in queries:\n",
    "    words = query.split()\n",
    "\n",
    "    if len(words) in diction.keys():\n",
    "        diction[len(words)] += 1\n",
    "    else:\n",
    "        diction.update({\n",
    "            len(words): 1\n",
    "        })\n",
    "\n",
    "for n, value in diction.items():\n",
    "    proc = round((value / len(queries)) * 100, 2)\n",
    "    print(f'Поисковых запросов, содержащих {n} слов(а): {proc}%')"
   ]
  },
  {
   "cell_type": "code",
   "execution_count": 72,
   "id": "21b5a5a2",
   "metadata": {},
   "outputs": [],
   "source": [
    "# Задание 3. Дана переменная, в которой хранится информация о затратах и доходе рекламных кампаний по различным источникам. \n",
    "# Необходимо дополнить исходную структуру показателем ROI, который рассчитаем по формуле: (revenue / cost - 1) * 100"
   ]
  },
  {
   "cell_type": "code",
   "execution_count": 70,
   "id": "b7fb1cd4",
   "metadata": {},
   "outputs": [
    {
     "name": "stdout",
     "output_type": "stream",
     "text": [
      "adwords : {'revenue': 35, 'cost': 34, 'ROI': 2.94}\n",
      "facebook : {'revenue': 103, 'cost': 110, 'ROI': -6.36}\n",
      "twitter : {'revenue': 11, 'cost': 24, 'ROI': -54.17}\n",
      "vk : {'revenue': 103, 'cost': 98, 'ROI': 5.1}\n",
      "yandex : {'revenue': 179, 'cost': 153, 'ROI': 16.99}\n"
     ]
    }
   ],
   "source": [
    "results = {\n",
    "    'vk': {'revenue': 103, 'cost': 98},\n",
    "    'yandex': {'revenue': 179, 'cost': 153},\n",
    "    'facebook': {'revenue': 103, 'cost': 110},\n",
    "    'adwords': {'revenue': 35, 'cost': 34},\n",
    "    'twitter': {'revenue': 11, 'cost': 24},\n",
    "}\n",
    "\n",
    "#sorted(results, key=results.get)\n",
    "\n",
    "for value in results.values():\n",
    "    value['ROI'] = round((value['revenue'] / value['cost'] - 1) * 100, 2)\n",
    "\n",
    "for k in sorted(results.keys()):\n",
    "    print (k, ':', results[k])"
   ]
  },
  {
   "cell_type": "code",
   "execution_count": 92,
   "id": "bfcb37a9",
   "metadata": {},
   "outputs": [
    {
     "name": "stdout",
     "output_type": "stream",
     "text": [
      "Максимальный объем продаж на рекламном канале: vk\n"
     ]
    }
   ],
   "source": [
    "# Задание 4. Дана переменная, в которой хранится статистика рекламных каналов по объемам продаж.\n",
    "# Напишите программу, которая возвращает название канала с максимальным объемом продаж.\n",
    "\n",
    "stats = {'facebook': 55, 'yandex': 115, 'vk': 120, 'google': 99, 'email': 42, 'ok': 98}\n",
    "\n",
    "max_val = max(stats.items(), key=lambda x: x[1])\n",
    "\n",
    "print(\"Максимальный объем продаж на рекламном канале:\", max_val[0])\n"
   ]
  }
 ],
 "metadata": {
  "kernelspec": {
   "display_name": "Python 3",
   "language": "python",
   "name": "python3"
  },
  "language_info": {
   "codemirror_mode": {
    "name": "ipython",
    "version": 3
   },
   "file_extension": ".py",
   "mimetype": "text/x-python",
   "name": "python",
   "nbconvert_exporter": "python",
   "pygments_lexer": "ipython3",
   "version": "3.8.8"
  }
 },
 "nbformat": 4,
 "nbformat_minor": 5
}
