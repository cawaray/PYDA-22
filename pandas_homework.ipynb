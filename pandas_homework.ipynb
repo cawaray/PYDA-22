{
 "cells": [
  {
   "cell_type": "code",
   "execution_count": 19,
   "id": "ffd5d339",
   "metadata": {},
   "outputs": [
    {
     "data": {
      "text/plain": [
       "318    153\n",
       "Name: movieId, dtype: int64"
      ]
     },
     "execution_count": 19,
     "metadata": {},
     "output_type": "execute_result"
    }
   ],
   "source": [
    "# Задание1\n",
    "\n",
    "import pandas as pd\n",
    "\n",
    "ds=pd.read_csv('/Users/socks/netology/PYDA-22/Files/ml-latest-small/ratings.csv', 'r', delimiter=',')\n",
    "ds[ds['rating']==5.0]['movieId'].value_counts().head(1)"
   ]
  },
  {
   "cell_type": "code",
   "execution_count": 17,
   "id": "ea1e5df8",
   "metadata": {},
   "outputs": [
    {
     "name": "stdout",
     "output_type": "stream",
     "text": [
      "суммарное потребление: 240580.0\n"
     ]
    }
   ],
   "source": [
    "# Задание2.По данным файла power.csv посчитайте суммарное потребление стран Прибалтики(Латвия, Литва и Эстония)категорий 4,12,21 \n",
    "# за период с 2005 по 2010 года. Не учитывайте в расчетах отрицательные значения quantity.\n",
    "\n",
    "summa = 0\n",
    "ds=pd.read_csv('/Users/socks/netology/10_base_pandas/power.csv', 'r', delimiter=',')\n",
    "ds2=ds[(ds['year']>=2005)&(ds['year']<=2010)&(ds['quantity']>=0)]\n",
    "ds3=ds2[ds2.category.isin([4,12,21])]\n",
    "summa=ds3[ds3.country.str.contains('|'.join(['Lat','Lit','Est']))]['quantity'].sum()\n",
    "print('суммарное потребление: {}'.format(summa))\n"
   ]
  },
  {
   "cell_type": "code",
   "execution_count": 16,
   "id": "9dc822b9",
   "metadata": {},
   "outputs": [
    {
     "data": {
      "text/html": [
       "<div>\n",
       "<style scoped>\n",
       "    .dataframe tbody tr th:only-of-type {\n",
       "        vertical-align: middle;\n",
       "    }\n",
       "\n",
       "    .dataframe tbody tr th {\n",
       "        vertical-align: top;\n",
       "    }\n",
       "\n",
       "    .dataframe thead th {\n",
       "        text-align: right;\n",
       "    }\n",
       "</style>\n",
       "<table border=\"1\" class=\"dataframe\">\n",
       "  <thead>\n",
       "    <tr style=\"text-align: right;\">\n",
       "      <th></th>\n",
       "      <th>0</th>\n",
       "      <th>1</th>\n",
       "      <th>2</th>\n",
       "    </tr>\n",
       "  </thead>\n",
       "  <tbody>\n",
       "    <tr>\n",
       "      <th>0</th>\n",
       "      <td>OUTPUT</td>\n",
       "      <td>TOTAL VARIABLE COST (£000)</td>\n",
       "      <td>AVERAGE VARIABLE COST (£000)</td>\n",
       "    </tr>\n",
       "    <tr>\n",
       "      <th>1</th>\n",
       "      <td>1</td>\n",
       "      <td>50</td>\n",
       "      <td>50</td>\n",
       "    </tr>\n",
       "    <tr>\n",
       "      <th>2</th>\n",
       "      <td>2</td>\n",
       "      <td>80</td>\n",
       "      <td>40</td>\n",
       "    </tr>\n",
       "    <tr>\n",
       "      <th>3</th>\n",
       "      <td>3</td>\n",
       "      <td>100</td>\n",
       "      <td>33.3</td>\n",
       "    </tr>\n",
       "    <tr>\n",
       "      <th>4</th>\n",
       "      <td>4</td>\n",
       "      <td>110</td>\n",
       "      <td>27.5</td>\n",
       "    </tr>\n",
       "  </tbody>\n",
       "</table>\n",
       "</div>"
      ],
      "text/plain": [
       "        0                           1                             2\n",
       "0  OUTPUT  TOTAL VARIABLE COST (£000)  AVERAGE VARIABLE COST (£000)\n",
       "1       1                          50                            50\n",
       "2       2                          80                            40\n",
       "3       3                         100                          33.3\n",
       "4       4                         110                          27.5"
      ]
     },
     "execution_count": 16,
     "metadata": {},
     "output_type": "execute_result"
    }
   ],
   "source": [
    "# Задание 3. Выберите страницу любого сайта с табличными данными. Импортируйте таблицы в pandas dataframe. https://www.rbc.ru/crypto/\n",
    "\n",
    "data=pd.read_html('https://www.economicsonline.co.uk/Business_economics/Costs.html')[2]\n",
    "\n",
    "keyword_to_region_dict = revert_dict(geo_data)\n",
    "\n",
    "def attach_region(keywords_str):\n",
    "    keywords = keywords_str.lower().split(' ')\n",
    "    \n",
    "    for keyword in keywords:\n",
    "        if keyword in keyword_to_region_dict:\n",
    "            #the 1st geo-keyword matters!\n",
    "            return keyword_to_region_dict[keyword]\n",
    "    \n",
    "    return 'undefined'\n",
    "\n",
    "keywords_df['region'] = keywords_df['keyword'].apply(attach_region)\n",
    "grouped = keywords_df.groupby('region').count().reset_index()[['region', 'keyword']]\n",
    "grouped.columns = ['Регион', 'Число']\n",
    "grouped.sort_values('Число', ascending=False)"
   ]
  },
  {
   "cell_type": "code",
   "execution_count": null,
   "id": "d40d16b3",
   "metadata": {},
   "outputs": [],
   "source": []
  }
 ],
 "metadata": {
  "kernelspec": {
   "display_name": "Python 3",
   "language": "python",
   "name": "python3"
  },
  "language_info": {
   "codemirror_mode": {
    "name": "ipython",
    "version": 3
   },
   "file_extension": ".py",
   "mimetype": "text/x-python",
   "name": "python",
   "nbconvert_exporter": "python",
   "pygments_lexer": "ipython3",
   "version": "3.8.8"
  }
 },
 "nbformat": 4,
 "nbformat_minor": 5
}
