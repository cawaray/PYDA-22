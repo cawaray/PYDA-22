{
 "cells": [
  {
   "cell_type": "code",
   "execution_count": null,
   "id": "81158d0d",
   "metadata": {},
   "outputs": [],
   "source": [
    "# Задание 1.\n",
    "\n",
    "new_dict = {}\n",
    "with open('/Users/ruslan/Code/PYDA_HW/Downloads/purchase_log.txt') as f:\n",
    "    for line in f:\n",
    "        dict_ = json.loads(line)\n",
    "        new_dict[ dict_['user_id'] ] = dict_['category']\n",
    "with open('/Users/ruslan/Code/PYDA_HW/Downloads/results.txt', 'w') as fout:\n",
    "    fout.write(str(new_dict)) # если выводить данные так, то файл выглядит гораздо читаемей    \n",
    "#     fout.write(json.dumps(new_dict))  # к сожалению русские слова отображаются некоректно\n",
    "f.close()\n"
   ]
  },
  {
   "cell_type": "code",
   "execution_count": null,
   "id": "06e4ec2a",
   "metadata": {},
   "outputs": [],
   "source": [
    "# Задание 2.\n",
    "\n",
    "import json\n",
    "list_of_purchase = []\n",
    "# загружаем в оперативку файл purshase\n",
    "with open('/Users/ruslan/Code/PYDA_HW/Downloads/purchase_log.txt') as pur_fl:\n",
    "    for line in pur_fl:\n",
    "        dict_ = json.loads(line)\n",
    "        list_of_purchase.append(dict_)\n",
    "# функция по user_id на выходе даёт наименование продукта\n",
    "def products_name_ram(prod_name):\n",
    "    for d in list_of_purchase:\n",
    "        if (d['user_id'] == prod_name):\n",
    "            return d['category']\n",
    "    return None\n",
    "with open('/Users/ruslan/Code/PYDA_HW/Downloads/results.txt', 'w') as result: # создаем файл для записи\n",
    "    with open('/Users/ruslan/Code/PYDA_HW/Downloads/visit_log.csv') as vis_lg: # открываем файл для построчного поиска\n",
    "        for line in vis_lg:\n",
    "            user_id =line.strip().split(',')[0]\n",
    "            category = products_name_ram(user_id)\n",
    "            if category:\n",
    "                line_out = line.rstrip() + ', ' + str(category) + '\\r'\n",
    "                result.write(line_out)"
   ]
  }
 ],
 "metadata": {
  "kernelspec": {
   "display_name": "Python 3",
   "language": "python",
   "name": "python3"
  },
  "language_info": {
   "codemirror_mode": {
    "name": "ipython",
    "version": 3
   },
   "file_extension": ".py",
   "mimetype": "text/x-python",
   "name": "python",
   "nbconvert_exporter": "python",
   "pygments_lexer": "ipython3",
   "version": "3.8.8"
  }
 },
 "nbformat": 4,
 "nbformat_minor": 5
}
