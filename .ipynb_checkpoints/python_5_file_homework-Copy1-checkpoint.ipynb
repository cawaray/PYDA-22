{
 "cells": [
  {
   "cell_type": "code",
   "execution_count": 10,
   "id": "ebe6995e",
   "metadata": {},
   "outputs": [],
   "source": [
    "# Задание 1.\n",
    "\n",
    "import json\n",
    "\n",
    "dict1 = {}\n",
    "with open('/Users/socks/netology/PYDA-22/Files/purchase_log.txt') as f:\n",
    "    for line in f:\n",
    "        dict_ = json.loads(line)\n",
    "        dict1[ dict_['user_id'] ] = dict_['category']\n",
    "with open('/Users/socks/netology/PYDA-22/Files/res_dic.txt', 'w') as f2:\n",
    "    f2.write(str(dict1))\n",
    "f.close()\n"
   ]
  },
  {
   "cell_type": "code",
   "execution_count": null,
   "id": "d05070f1",
   "metadata": {},
   "outputs": [],
   "source": [
    "# Задание 2.\n",
    "\n",
    "list_of_purchases = []\n",
    "with open('/Users/socks/netology/PYDA-22/Files/purchase_log.txt') as f3: # загружаем в память\n",
    "    for line in f3:\n",
    "        dict_ = json.loads(line)\n",
    "        list_of_purchases.append(dict_)\n",
    "\n",
    "def products(prod_name):\n",
    "    for n in list_of_purchases:\n",
    "        if (n['user_id'] == prod_name):\n",
    "            return n['category']\n",
    "    return None\n",
    "with open('/Users/socks/netology/PYDA-22/Files/funnel.csv', 'w') as f4:   #  файл для записи\n",
    "    with open('/Users/socks/netology/PYDA-22/Files/visit_log.csv') as f5: #  файл для поиска\n",
    "        for line in f5:\n",
    "            user_id =line.strip().split(',')[0]\n",
    "            category = products(user_id)\n",
    "            if category:\n",
    "                line_out = line.rstrip() + ', ' + str(category) + '\\r'\n",
    "                f4.write(line_out)"
   ]
  }
 ],
 "metadata": {
  "kernelspec": {
   "display_name": "Python 3",
   "language": "python",
   "name": "python3"
  },
  "language_info": {
   "codemirror_mode": {
    "name": "ipython",
    "version": 3
   },
   "file_extension": ".py",
   "mimetype": "text/x-python",
   "name": "python",
   "nbconvert_exporter": "python",
   "pygments_lexer": "ipython3",
   "version": "3.8.8"
  }
 },
 "nbformat": 4,
 "nbformat_minor": 5
}
