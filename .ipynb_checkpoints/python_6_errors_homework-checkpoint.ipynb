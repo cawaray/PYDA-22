{
 "cells": [
  {
   "cell_type": "markdown",
   "id": "93604909",
   "metadata": {},
   "source": [
    "Задание 1. \n",
    "Печатные газеты использовали свой формат дат для каждого выпуска. Для каждой газеты из списка напишите формат указанной даты для перевода в объект datetime:\n",
    "The Moscow Times - Wednesday, October 2, 2002\n",
    "The Guardian - Friday, 11.10.13\n",
    "Daily News - Thursday, 18 August 1977"
   ]
  },
  {
   "cell_type": "code",
   "execution_count": 4,
   "id": "08faafe8",
   "metadata": {},
   "outputs": [
    {
     "name": "stdout",
     "output_type": "stream",
     "text": [
      "2002-10-02 00:00:00\n",
      "2013-10-11 00:00:00\n",
      "2002-10-02 00:00:00\n"
     ]
    }
   ],
   "source": [
    "from datetime import datetime\n",
    "mos_time = datetime.strptime('Wednesday, October 2, 2002', '%A, %B %d, %Y' )\n",
    "the_guard = datetime.strptime('Friday, 11.10.13', '%A, %d.%m.%y' )\n",
    "d_news = datetime.strptime('Thursday, 18 August 1977', '%A, %d %B %Y' )\n",
    "print(mos_time)\n",
    "print(the_guard)\n",
    "print(mos_time)"
   ]
  },
  {
   "cell_type": "markdown",
   "id": "a4cf7834",
   "metadata": {},
   "source": [
    "Задание 2.\n",
    "Дан поток дат в формате YYYY-MM-DD, в которых встречаются некорректные значения:\n",
    "stream = [‘2018-04-02’, ‘2018-02-29’, ‘2018-19-02’]\n",
    "Напишите функцию, которая проверяет эти даты на корректность. Т. е. для каждой даты возвращает True (дата корректна) или False (некорректная дата)."
   ]
  },
  {
   "cell_type": "code",
   "execution_count": 15,
   "id": "bfab9ed2",
   "metadata": {},
   "outputs": [
    {
     "name": "stdout",
     "output_type": "stream",
     "text": [
      "2018-04-02 True\n",
      "2018-02-29 False\n",
      "2018-19-02 False\n"
     ]
    }
   ],
   "source": [
    "stream = ['2018-04-02', '2018-02-29', '2018-19-02']\n",
    "def validate(stream):\n",
    "    for date in stream:\n",
    "        try:\n",
    "            val_date = datetime.strptime(date, '%Y-%m-%d')\n",
    "            print(date, True)\n",
    "        except:\n",
    "            print(date, False)\n",
    "            pass\n",
    "validate(stream)"
   ]
  },
  {
   "cell_type": "markdown",
   "id": "82560f0b",
   "metadata": {},
   "source": [
    "Задание 3.\n",
    "Напишите функцию date_range, которая возвращает список дат за период от start_date до end_date. Даты должны вводиться в формате YYYY-MM-DD. В случае неверного формата или при start_date > end_date должен возвращаться пустой список."
   ]
  },
  {
   "cell_type": "code",
   "execution_count": 29,
   "id": "3c5fa378",
   "metadata": {},
   "outputs": [
    {
     "data": {
      "text/plain": [
       "['2021-07-15',\n",
       " '2021-07-16',\n",
       " '2021-07-17',\n",
       " '2021-07-18',\n",
       " '2021-07-19',\n",
       " '2021-07-20',\n",
       " '2021-07-21']"
      ]
     },
     "execution_count": 29,
     "metadata": {},
     "output_type": "execute_result"
    }
   ],
   "source": [
    "from datetime import datetime\n",
    "from datetime import timedelta\n",
    "\n",
    "start_date = '2021-07-15'\n",
    "end_date = '2021-07-21'\n",
    "\n",
    "def date_range (start_date, end_date):\n",
    "    start_date_dt = datetime.strptime(start_date, '%Y-%m-%d')\n",
    "    end_date_dt = datetime.strptime(end_date, '%Y-%m-%d')\n",
    "    days=[]\n",
    "    while start_date_dt<=end_date_dt:\n",
    "        \n",
    "        print_datetime=datetime.strftime(start_date_dt,'%Y-%m-%d')\n",
    "        days.append(print_datetime)\n",
    "        start_date_dt+=timedelta(days=1)\n",
    "              \n",
    "    return(days)\n",
    "date_range(start_date, end_date)\n",
    "    "
   ]
  }
 ],
 "metadata": {
  "kernelspec": {
   "display_name": "Python 3",
   "language": "python",
   "name": "python3"
  },
  "language_info": {
   "codemirror_mode": {
    "name": "ipython",
    "version": 3
   },
   "file_extension": ".py",
   "mimetype": "text/x-python",
   "name": "python",
   "nbconvert_exporter": "python",
   "pygments_lexer": "ipython3",
   "version": "3.8.8"
  }
 },
 "nbformat": 4,
 "nbformat_minor": 5
}
