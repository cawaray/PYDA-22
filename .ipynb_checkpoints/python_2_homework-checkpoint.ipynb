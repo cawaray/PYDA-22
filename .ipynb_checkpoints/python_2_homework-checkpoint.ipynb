{
 "cells": [
  {
   "cell_type": "code",
   "execution_count": 1,
   "id": "29787222",
   "metadata": {},
   "outputs": [
    {
     "name": "stdout",
     "output_type": "stream",
     "text": [
      "Укажите слово:test\n",
      "es\n"
     ]
    }
   ],
   "source": [
    "# Задание 1\n",
    "word = input(\"Укажите слово:\")\n",
    "wordlen = len(word)      # узнаем количество букв в слове\n",
    "wordlen2 = wordlen / 2   # \n",
    "if wordlen % 2 == 0:\n",
    "    print(word[int(wordlen2)-1:int(wordlen2)+1])\n",
    "else:\n",
    "    print(word[int(wordlen2)])"
   ]
  },
  {
   "cell_type": "code",
   "execution_count": 5,
   "id": "d61712de",
   "metadata": {},
   "outputs": [
    {
     "name": "stdout",
     "output_type": "stream",
     "text": [
      "Введите число: 1\n",
      "Введите число: 4\n",
      "Введите число: 6\n",
      "Введите число: 0\n",
      "Результат:  11\n"
     ]
    }
   ],
   "source": [
    "# Задание 2\n",
    "\n",
    "n = 0\n",
    "sum_ = 0\n",
    "count = 0\n",
    "\n",
    "while True:\n",
    "    a = int(input('Введите число: '))\n",
    "    if a == 0:\n",
    "        break\n",
    "    else:\n",
    "        sum_ += a\n",
    "        count += 1\n",
    "print('Результат: ', sum_)\n"
   ]
  },
  {
   "cell_type": "code",
   "execution_count": 43,
   "id": "cc1d4463",
   "metadata": {},
   "outputs": [
    {
     "name": "stdout",
     "output_type": "stream",
     "text": [
      "Alex и Emma\n",
      "Arthur и Kate\n",
      "John и Kira\n",
      "Peter и Liza\n",
      "Richard и Trisha\n"
     ]
    }
   ],
   "source": [
    "# Задание 3\n",
    "\n",
    "boys = ['Peter', 'Alex', 'John', 'Arthur', 'Richard']\n",
    "girls = ['Kate', 'Liza', 'Kira', 'Emma', 'Trisha']\n",
    "\n",
    "s_boys = sorted(boys)\n",
    "s_girls = sorted(girls)\n",
    "if len(boys) != len(girls):\n",
    "    print(\"Внимание, кто-то может остаться без пары!\")\n",
    "else:\n",
    "    dating = zip(s_boys,s_girls)\n",
    "for para in dating:\n",
    "    print(para[0],'и',para[1])\n",
    "           "
   ]
  },
  {
   "cell_type": "code",
   "execution_count": 6,
   "id": "c6b85a01",
   "metadata": {},
   "outputs": [
    {
     "name": "stdout",
     "output_type": "stream",
     "text": [
      "Thailand 23.86\n",
      "Germany 13.8\n",
      "Russia 3.71\n",
      "Poland 12.0\n"
     ]
    }
   ],
   "source": [
    "# Задание 4\n",
    "\n",
    "countries_temperature = [\n",
    " ['Thailand', [75.2, 77, 78.8, 73.4, 68, 75.2, 77]],\n",
    " ['Germany', [57.2, 55.4, 59, 59, 53.6]],\n",
    " ['Russia', [35.6, 37.4, 39.2, 41, 42.8, 39.2, 35.6]],\n",
    " ['Poland', [50, 50, 53.6, 57.2, 55.4, 55.4]],\n",
    "]\n",
    "\n",
    "for data in countries_temperature:\n",
    "    print(data[0],round((5/9)*(sum(data[1]) / len(data[1])-32),2))"
   ]
  },
  {
   "cell_type": "code",
   "execution_count": null,
   "id": "005e575a",
   "metadata": {},
   "outputs": [],
   "source": []
  }
 ],
 "metadata": {
  "kernelspec": {
   "display_name": "Python 3",
   "language": "python",
   "name": "python3"
  },
  "language_info": {
   "codemirror_mode": {
    "name": "ipython",
    "version": 3
   },
   "file_extension": ".py",
   "mimetype": "text/x-python",
   "name": "python",
   "nbconvert_exporter": "python",
   "pygments_lexer": "ipython3",
   "version": "3.8.8"
  }
 },
 "nbformat": 4,
 "nbformat_minor": 5
}
