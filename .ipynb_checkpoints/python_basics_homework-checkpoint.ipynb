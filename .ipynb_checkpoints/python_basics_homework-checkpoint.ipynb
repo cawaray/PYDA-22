{
 "cells": [
  {
   "cell_type": "code",
   "execution_count": 3,
   "id": "64579bd9",
   "metadata": {},
   "outputs": [
    {
     "name": "stdout",
     "output_type": "stream",
     "text": [
      "Фраза 2 длиннее фразы 1\n"
     ]
    }
   ],
   "source": [
    "# Задание 1\n",
    "\n",
    "phrase_1 = '640Кб должно хватить для любых задач. Билл Гейтс (по легенде)'\n",
    "phrase_2 = 'Насколько проще было бы писать программы, если бы не заказчики'\n",
    "\n",
    "if phrase_1 > phrase_2:\n",
    "    print ('Фраза 1 длиннее фразы 2') \n",
    "elif phrase_1 < phrase_2:\n",
    "    print ('Фраза 2 длиннее фразы 1') \n",
    "else:\n",
    "    print ('Фразы равной длины')"
   ]
  },
  {
   "cell_type": "code",
   "execution_count": 2,
   "id": "2f89e1e1",
   "metadata": {},
   "outputs": [
    {
     "name": "stdout",
     "output_type": "stream",
     "text": [
      "Високосный год\n"
     ]
    }
   ],
   "source": [
    "# Задание 2\n",
    "\n",
    "year = 2020\n",
    "\n",
    "if year % 4 == 0:\n",
    "    print ('Високосный год')\n",
    "else:\n",
    "    print ('Обычный год') "
   ]
  },
  {
   "cell_type": "code",
   "execution_count": 1,
   "id": "0e69ae01",
   "metadata": {},
   "outputs": [
    {
     "name": "stdout",
     "output_type": "stream",
     "text": [
      "Введите день:21\n",
      "Введите месяц:Август\n",
      "Ваш знак зодиака: Лев\n"
     ]
    }
   ],
   "source": [
    "# Задание 3\n",
    "\n",
    "user_input_day = int (input(\"Введите день:\"))\n",
    "user_input_month = input(\"Введите месяц:\")\n",
    "\n",
    "if  ( user_input_day >= 21 and user_input_month == 'Март' ) or ( user_input_day <= 19 and user_input_month == 'Апрель' ):\n",
    "    print ('Ваш знак зодиака: Овен')\n",
    "elif ( user_input_day >= 20 and user_input_month == 'Апрель' ) or ( user_input_day <= 20 and user_input_month == 'Мая' ):\n",
    "    print ('Ваш знак зодиака: Телец')\n",
    "elif ( user_input_day >= 21 and user_input_month == 'Май' ) or ( user_input_day <= 20 and user_input_month == 'Июнь' ):\n",
    "    print ('Ваш знак зодиака: Близнецы') \n",
    "elif ( user_input_day >= 21 and user_input_month == 'Июнь' ) or ( user_input_day <= 22 and user_input_month == 'Июль' ):\n",
    "    print ('Ваш знак зодиака: Рак')\n",
    "elif ( user_input_day >= 23 and user_input_month == 'Июль' ) or ( user_input_day <= 22 and user_input_month == 'Август' ):\n",
    "    print ('Ваш знак зодиака: Лев')\n",
    "elif ( user_input_day >= 23 and user_input_month == 'Август' ) or ( user_input_day <= 22 and user_input_month == 'Сентябрь' ):\n",
    "    print ('Ваш знак зодиака: Дева') \n",
    "elif ( user_input_day >= 23 and user_input_month == 'Сентябрь' ) or ( user_input_day <= 22 and user_input_month == 'Октябрь' ):\n",
    "    print ('Ваш знак зодиака: Весы') \n",
    "elif ( user_input_day >= 23 and user_input_month == 'Октябрь' ) or ( user_input_day <= 21 and user_input_month == 'Ноябрь' ):\n",
    "    print ('Ваш знак зодиака: Скорпион')\n",
    "elif ( user_input_day >= 22 and user_input_month == 'Ноябрь' ) or ( user_input_day <= 21 and user_input_month == 'Декабрь' ):\n",
    "    print ('Ваш знак зодиака: Телец')\n",
    "elif ( user_input_day >= 22 and user_input_month == 'Декабрь' ) or ( user_input_day <= 19 and user_input_month == 'Январь' ):\n",
    "    print ('Ваш знак зодиака: Телец') \n",
    "elif ( user_input_day >= 20 and user_input_month == 'Январь' ) or ( user_input_day <= 18 and user_input_month == 'Февраль' ):\n",
    "    print ('Ваш знак зодиака: Телец') \n",
    "elif ( user_input_day >= 19 and user_input_month == 'Февраль' ) or ( user_input_day <= 20 and user_input_month == 'Март' ):\n",
    "    print ('Ваш знак зодиака: Телец')\n",
    "else:\n",
    "    print ('Вы ввели некоректные данные')"
   ]
  },
  {
   "cell_type": "code",
   "execution_count": 7,
   "id": "a8d30b9a",
   "metadata": {},
   "outputs": [
    {
     "name": "stdout",
     "output_type": "stream",
     "text": [
      "width = 15\n",
      "length = 50\n",
      "height = 15\n",
      "Стандартная коробка №3\n"
     ]
    }
   ],
   "source": [
    "# Задание 4\n",
    "\n",
    "user_input_width = int (input(\"width = \"))\n",
    "user_input_length = int (input(\"length = \"))\n",
    "user_input_height = int (input(\"height = \"))\n",
    "\n",
    "if user_input_width < 15 and user_input_length < 15 and user_input_height < 15:\n",
    "    print ('Коробка №1')\n",
    "elif ( 15 < user_input_width < 50 ) and  (15 < user_input_length < 50) and (15 < user_input_height < 50):\n",
    "    print ('Коробка №2')\n",
    "elif user_input_length > 200: \n",
    "    print ('Упаковка для лыж')\n",
    "else:\n",
    "    print ('Стандартная коробка №3')\n",
    "    "
   ]
  },
  {
   "cell_type": "code",
   "execution_count": null,
   "id": "40562c7a",
   "metadata": {},
   "outputs": [],
   "source": []
  }
 ],
 "metadata": {
  "kernelspec": {
   "display_name": "Python 3",
   "language": "python",
   "name": "python3"
  },
  "language_info": {
   "codemirror_mode": {
    "name": "ipython",
    "version": 3
   },
   "file_extension": ".py",
   "mimetype": "text/x-python",
   "name": "python",
   "nbconvert_exporter": "python",
   "pygments_lexer": "ipython3",
   "version": "3.8.8"
  }
 },
 "nbformat": 4,
 "nbformat_minor": 5
}
